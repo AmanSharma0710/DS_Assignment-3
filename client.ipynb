{
 "cells": [
  {
   "cell_type": "code",
   "execution_count": null,
   "metadata": {},
   "outputs": [],
   "source": [
    "import requests"
   ]
  },
  {
   "cell_type": "code",
   "execution_count": 39,
   "metadata": {},
   "outputs": [
    {
     "name": "stdout",
     "output_type": "stream",
     "text": [
      "{\n",
      "  \"message\": \"Configured Database\",\n",
      "  \"status\": \"success\"\n",
      "}\n",
      "\n"
     ]
    }
   ],
   "source": [
    "# init\n",
    "payload = {\n",
    "            \"N\":3,\n",
    "            \"schema\":{\"columns\":[\"Stud_id\",\"Stud_name\",\"Stud_marks\"],\n",
    "                    \"dtypes\":[\"Number\",\"String\",\"String\"]},\n",
    "            \"shards\":[{\"Stud_id_low\":0, \"Shard_id\": \"sh1\", \"Shard_size\":4096},\n",
    "                    {\"Stud_id_low\":4096, \"Shard_id\": \"sh2\", \"Shard_size\":4096},\n",
    "                    {\"Stud_id_low\":8192, \"Shard_id\": \"sh3\", \"Shard_size\":4096},],\n",
    "            \"servers\":{\"Server0\":[\"sh1\",\"sh2\"],\n",
    "                    \"Server1\":[\"sh2\",\"sh3\"],\n",
    "            \"Server2\":[\"sh1\",\"sh3\"]}\n",
    "}\n",
    "\n",
    "# send request\n",
    "\n",
    "response = requests.post(\"http://localhost:5000/init\", json=payload)\n",
    "print(response.text)"
   ]
  },
  {
   "cell_type": "code",
   "execution_count": null,
   "metadata": {},
   "outputs": [],
   "source": [
    "payload = {\n",
    "    \"n\" : 2,\n",
    "    \"new_shards\":[{\"Stud_id_low\":12288, \"Shard_id\": \"sh5\", \"Shard_size\":4096}],\n",
    "    \"servers\" : {\"Server4\":[\"sh3\",\"sh5\"],\n",
    "                 \"Server[5]\":[\"sh2\",\"sh5\"]}\n",
    "}\n",
    "\n",
    "response = requests.post(\"http://localhost:5000/add\", json=payload)\n",
    "\n",
    "print(response.text)"
   ]
  },
  {
   "cell_type": "code",
   "execution_count": 43,
   "metadata": {},
   "outputs": [
    {
     "name": "stdout",
     "output_type": "stream",
     "text": [
      "{\n",
      "  \"message\": {\n",
      "    \"N\": 2,\n",
      "    \"servers\": [\n",
      "      \"Server0\"\n",
      "    ]\n",
      "  },\n",
      "  \"status\": \"successful\"\n",
      "}\n",
      "\n"
     ]
    }
   ],
   "source": [
    "payload = {\n",
    "    \"n\": 1,\n",
    "    \"servers\": [\"Server0\"]\n",
    "}\n",
    "\n",
    "response = requests.delete(\"http://localhost:5000/rm\", json=payload)\n",
    "\n",
    "print(response.text)"
   ]
  },
  {
   "cell_type": "code",
   "execution_count": 46,
   "metadata": {},
   "outputs": [
    {
     "name": "stdout",
     "output_type": "stream",
     "text": [
      "{\n",
      "  \"N\": 2,\n",
      "  \"schema\": {\n",
      "    \"columns\": [\n",
      "      \"Stud_id\",\n",
      "      \"Stud_name\",\n",
      "      \"Stud_marks\"\n",
      "    ],\n",
      "    \"dtypes\": [\n",
      "      \"Number\",\n",
      "      \"String\",\n",
      "      \"String\"\n",
      "    ]\n",
      "  },\n",
      "  \"servers\": {\n",
      "    \"Server1\": [\n",
      "      \"sh2\",\n",
      "      \"sh3\"\n",
      "    ],\n",
      "    \"Server2\": [\n",
      "      \"sh1\",\n",
      "      \"sh3\"\n",
      "    ]\n",
      "  },\n",
      "  \"shards\": [\n",
      "    {\n",
      "      \"Shard_id\": \"sh1\",\n",
      "      \"Shard_size\": 4096,\n",
      "      \"Stud_id_low\": 0\n",
      "    },\n",
      "    {\n",
      "      \"Shard_id\": \"sh2\",\n",
      "      \"Shard_size\": 4096,\n",
      "      \"Stud_id_low\": 4096\n",
      "    },\n",
      "    {\n",
      "      \"Shard_id\": \"sh3\",\n",
      "      \"Shard_size\": 4096,\n",
      "      \"Stud_id_low\": 8192\n",
      "    }\n",
      "  ]\n",
      "}\n",
      "\n"
     ]
    }
   ],
   "source": [
    "# status\n",
    "\n",
    "response = requests.get(\"http://localhost:5000/status\")\n",
    "print(response.text)"
   ]
  },
  {
   "cell_type": "code",
   "execution_count": 45,
   "metadata": {},
   "outputs": [
    {
     "name": "stdout",
     "output_type": "stream",
     "text": [
      "{\n",
      "  \"data\": [\n",
      "    {\n",
      "      \"Stud_id\": 2255,\n",
      "      \"Stud_marks\": \"279\",\n",
      "      \"Stud_name\": \"GHIJKM\"\n",
      "    },\n",
      "    {\n",
      "      \"Stud_id\": 5524,\n",
      "      \"Stud_marks\": \"56\",\n",
      "      \"Stud_name\": \"JKBFSFS\"\n",
      "    },\n",
      "    {\n",
      "      \"Stud_id\": 10005,\n",
      "      \"Stud_marks\": \"100\",\n",
      "      \"Stud_name\": \"YUBAAD\"\n",
      "    }\n",
      "  ],\n",
      "  \"shards_queried\": [\n",
      "    \"sh1\",\n",
      "    \"sh2\",\n",
      "    \"sh3\"\n",
      "  ],\n",
      "  \"status\": \"success\"\n",
      "}\n",
      "\n"
     ]
    }
   ],
   "source": [
    "# read\n",
    "\n",
    "payload = {\n",
    "    \"Stud_id\": {\n",
    "        \"low\": 2254,\n",
    "        \"high\": 20000\n",
    "    }\n",
    "}\n",
    "\n",
    "response = requests.post(\"http://localhost:5000/read\", json=payload)\n",
    "\n",
    "print(response.text)"
   ]
  },
  {
   "cell_type": "code",
   "execution_count": 40,
   "metadata": {},
   "outputs": [
    {
     "name": "stdout",
     "output_type": "stream",
     "text": [
      "{\n",
      "  \"message\": \"3 Data entries added\",\n",
      "  \"status\": \"success\"\n",
      "}\n",
      "\n"
     ]
    }
   ],
   "source": [
    "# write\n",
    "\n",
    "payload = {\n",
    "    \"data\": [{\"Stud_id\":2255,\"Stud_name\":\"GHIJKM\",\"Stud_marks\":279},\n",
    "             {\"Stud_id\":5524,\"Stud_name\":\"JKBFSFS\",\"Stud_marks\":56},\n",
    "             {\"Stud_id\":10005,\"Stud_name\":\"YUBAAD\",\"Stud_marks\":100}]\n",
    "}\n",
    "\n",
    "response = requests.post(\"http://localhost:5000/write\", json=payload)\n",
    "\n",
    "print(response.text)\n",
    "\n"
   ]
  },
  {
   "cell_type": "code",
   "execution_count": null,
   "metadata": {},
   "outputs": [],
   "source": [
    "# update\n",
    "\n",
    "payload = {\n",
    "    \"Stud_id\": 2255,\n",
    "    \"data\": {\"Stud_id\": 2255, \"Stud_name\":\"GHI\",\"Stud_marks\":20}\n",
    "}\n",
    "\n",
    "response = requests.put(\"http://localhost:5000/update\", json=payload)\n",
    "\n",
    "print(response.text)"
   ]
  },
  {
   "cell_type": "code",
   "execution_count": null,
   "metadata": {},
   "outputs": [],
   "source": [
    "# del\n",
    "\n",
    "payload = {\n",
    "    \"Stud_id\": 2255\n",
    "}\n",
    "\n",
    "response = requests.delete(\"http://localhost:5000/del\", json=payload)\n",
    "\n",
    "print(response.text)"
   ]
  },
  {
   "cell_type": "code",
   "execution_count": null,
   "metadata": {},
   "outputs": [],
   "source": []
  }
 ],
 "metadata": {
  "kernelspec": {
   "display_name": "Python 3",
   "language": "python",
   "name": "python3"
  },
  "language_info": {
   "codemirror_mode": {
    "name": "ipython",
    "version": 3
   },
   "file_extension": ".py",
   "mimetype": "text/x-python",
   "name": "python",
   "nbconvert_exporter": "python",
   "pygments_lexer": "ipython3",
   "version": "3.8.12"
  }
 },
 "nbformat": 4,
 "nbformat_minor": 2
}
