{
 "cells": [
  {
   "cell_type": "code",
   "execution_count": 1,
   "metadata": {},
   "outputs": [],
   "source": [
    "import random, string, requests, time, json\n",
    "from tqdm import tqdm\n",
    "from threading import Thread\n",
    "\n",
    "localhost = \"http://127.0.0.1\"\n",
    "url = localhost + \":5000/\"\n"
   ]
  },
  {
   "cell_type": "code",
   "execution_count": 2,
   "metadata": {},
   "outputs": [],
   "source": [
    "records = [\n",
    "    {\n",
    "        \"Stud_id\" : i,\n",
    "        \"Stud_name\" : ''.join(random.choices(string.ascii_uppercase, k = 6)),\n",
    "        \"Stud_marks\" : random.randint(0, 100)\n",
    "    }\n",
    "    \n",
    "    for i in range(0, 10000)\n",
    "]"
   ]
  },
  {
   "cell_type": "code",
   "execution_count": 3,
   "metadata": {},
   "outputs": [],
   "source": [
    "def read_target(batch_size : int = 10):\n",
    "    lo = random.randint(0, 10000)\n",
    "    hi = lo + batch_size\n",
    "    r = requests.post(url + \"read\", data = json.dumps({\"Stud_id\" : {\"low\" : lo, \"high\" : hi}}))\n",
    "\n",
    "def readN(N : int = 1000, batch_size : int = 10):\n",
    "    \n",
    "    start = time.time()\n",
    "    \n",
    "    \n",
    "    threads = []\n",
    "    for i in tqdm(range(N)):\n",
    "        threads.append(Thread(target = lambda: read_target(batch_size,)))\n",
    "        threads[-1].start()\n",
    "    for i in tqdm(range(N)):\n",
    "        threads[i].join()\n",
    "        \n",
    "\n",
    "    end = time.time()\n",
    "    \n",
    "    return f\"{N} read requests with batches of {batch_size} took {end-start:.2f} seconds.\""
   ]
  },
  {
   "cell_type": "code",
   "execution_count": 4,
   "metadata": {},
   "outputs": [],
   "source": [
    "def write_target(batch_size : int = 10):\n",
    "    data = random.choices(records, k = batch_size)\n",
    "    r = requests.post(url + \"write\", data = json.dumps({\"data\" : data}))\n",
    "\n",
    "def writeN(N : int = 1000, batch_size : int = 10):\n",
    "    \n",
    "    start = time.time()\n",
    "    \n",
    "    threads = []\n",
    "    for i in tqdm(range(N)):\n",
    "        threads.append(Thread(target = lambda: write_target(batch_size,)))\n",
    "        threads[-1].start()\n",
    "    for i in tqdm(range(N)):\n",
    "        threads[i].join()\n",
    "    \n",
    "    end = time.time()\n",
    "    \n",
    "    return f\"{N} write requests with batches of {batch_size} took {end-start:.2f} seconds.\""
   ]
  },
  {
   "cell_type": "markdown",
   "metadata": {},
   "source": [
    "# A-1\n",
    "\n",
    "Report the read and write speed for 10000 writes and 10000 reads in the default configuration given"
   ]
  },
  {
   "cell_type": "code",
   "execution_count": 8,
   "metadata": {},
   "outputs": [
    {
     "name": "stdout",
     "output_type": "stream",
     "text": [
      "{\"Added Servers\":[\"Server_1\",\"Server_2\",\"Server_3\"],\"message\":\"Configured Database\",\"status\":\"success\"}\n",
      "\n"
     ]
    }
   ],
   "source": [
    "# Initialise\n",
    "\n",
    "init = {\n",
    "    \"N\":3,\n",
    "    \"schema\":{\"columns\":[\"Stud_id\",\"Stud_name\",\"Stud_marks\"],\"dtypes\":[\"Number\",\"String\",\"String\"]},\n",
    "    \"shards\":[{\"Stud_id_low\":0, \"Shard_id\": \"sh1\", \"Shard_size\":4096},\n",
    "            {\"Stud_id_low\":4096, \"Shard_id\": \"sh2\", \"Shard_size\":4096},\n",
    "            {\"Stud_id_low\":8192, \"Shard_id\": \"sh3\", \"Shard_size\":4096}],\n",
    "    \"servers\":{\"Server0\":[\"sh1\",\"sh2\"],\n",
    "            \"Server1\":[\"sh2\",\"sh3\"],\n",
    "            \"Server2\":[\"sh1\",\"sh3\"]}\n",
    "}\n",
    "\n",
    "r = requests.post(\"http://localhost:5000/init\", json=init)\n",
    "\n",
    "print(r.text)"
   ]
  },
  {
   "cell_type": "code",
   "execution_count": 10,
   "metadata": {},
   "outputs": [
    {
     "data": {
      "text/plain": [
       "{'N': 3,\n",
       " 'schema': {'columns': ['Stud_id', 'Stud_name', 'Stud_marks'],\n",
       "  'dtypes': ['Number', 'String', 'String']},\n",
       " 'servers': {'Server0': ['sh1', 'sh2'],\n",
       "  'Server1': ['sh2', 'sh3'],\n",
       "  'Server2': ['sh1', 'sh3']},\n",
       " 'shards': [{'Primary_server': 'Server0',\n",
       "   'Shard_id': 'sh1',\n",
       "   'Shard_size': 4096,\n",
       "   'Stud_id_low': 0},\n",
       "  {'Primary_server': 'Server0',\n",
       "   'Shard_id': 'sh2',\n",
       "   'Shard_size': 4096,\n",
       "   'Stud_id_low': 4096},\n",
       "  {'Primary_server': 'Server1',\n",
       "   'Shard_id': 'sh3',\n",
       "   'Shard_size': 4096,\n",
       "   'Stud_id_low': 8192}]}"
      ]
     },
     "execution_count": 10,
     "metadata": {},
     "output_type": "execute_result"
    }
   ],
   "source": [
    "# Check Status\n",
    "\n",
    "r = requests.get(\"http://localhost:5000/status\")\n",
    "r.json()"
   ]
  },
  {
   "cell_type": "code",
   "execution_count": 11,
   "metadata": {},
   "outputs": [
    {
     "name": "stderr",
     "output_type": "stream",
     "text": [
      "100%|██████████| 1000/1000 [00:01<00:00, 831.32it/s]\n",
      "100%|██████████| 1000/1000 [00:00<00:00, 69720.31it/s]\n"
     ]
    },
    {
     "data": {
      "text/plain": [
       "'1000 write requests with batches of 10 took 1.24 seconds.'"
      ]
     },
     "execution_count": 11,
     "metadata": {},
     "output_type": "execute_result"
    }
   ],
   "source": [
    "## Write\n",
    "\n",
    "\n",
    "writeN()"
   ]
  },
  {
   "cell_type": "code",
   "execution_count": 12,
   "metadata": {},
   "outputs": [
    {
     "name": "stderr",
     "output_type": "stream",
     "text": [
      "100%|██████████| 1000/1000 [00:01<00:00, 886.47it/s]\n",
      "100%|██████████| 1000/1000 [00:00<00:00, 38969.29it/s]\n"
     ]
    },
    {
     "data": {
      "text/plain": [
       "'1000 read requests with batches of 10 took 1.16 seconds.'"
      ]
     },
     "execution_count": 12,
     "metadata": {},
     "output_type": "execute_result"
    }
   ],
   "source": [
    "# Read\n",
    "\n",
    "readN()"
   ]
  },
  {
   "cell_type": "markdown",
   "metadata": {},
   "source": [
    "# A-2\n",
    "\n",
    "Increase the number of shard replicas (to 7) from the configuration (init endpoint). Report the write speed down for\n",
    "10000 writes and read speed up for 10000 reads."
   ]
  },
  {
   "cell_type": "code",
   "execution_count": 15,
   "metadata": {},
   "outputs": [
    {
     "name": "stdout",
     "output_type": "stream",
     "text": [
      "{\"Added Servers\":[\"Server_1\",\"Server_2\",\"Server_3\",\"Server_4\",\"Server_5\",\"Server_6\",\"Server_7\"],\"message\":\"Configured Database\",\"status\":\"success\"}\n",
      "\n"
     ]
    }
   ],
   "source": [
    "# Initialise\n",
    "\n",
    "init = {\n",
    "    \"N\":7,\n",
    "    \"schema\":{\"columns\":[\"Stud_id\",\"Stud_name\",\"Stud_marks\"],\"dtypes\":[\"Number\",\"String\",\"String\"]},\n",
    "    \"shards\":[{\"Stud_id_low\":0, \"Shard_id\": \"sh1\", \"Shard_size\":4096},\n",
    "            {\"Stud_id_low\":4096, \"Shard_id\": \"sh2\", \"Shard_size\":4096},\n",
    "            {\"Stud_id_low\":8192, \"Shard_id\": \"sh3\", \"Shard_size\":4096}],\n",
    "    \"servers\":{\n",
    "            \"Server0\":[\"sh1\", \"sh2\", \"sh3\"],\n",
    "            \"Server1\":[\"sh1\", \"sh2\", \"sh3\"],\n",
    "            \"Server2\":[\"sh1\", \"sh2\", \"sh3\"],\n",
    "            \"Server3\":[\"sh1\", \"sh2\", \"sh3\"],\n",
    "            \"Server4\":[\"sh1\", \"sh2\", \"sh3\"],\n",
    "            \"Server5\":[\"sh1\", \"sh2\", \"sh3\"],\n",
    "            \"Server6\":[\"sh1\", \"sh2\", \"sh3\"],\n",
    "            }\n",
    "}\n",
    "\n",
    "r = requests.post(\"http://localhost:5000/init\", json=init)\n",
    "\n",
    "print(r.text)"
   ]
  },
  {
   "cell_type": "code",
   "execution_count": 16,
   "metadata": {},
   "outputs": [
    {
     "data": {
      "text/plain": [
       "{'N': 7,\n",
       " 'schema': {'columns': ['Stud_id', 'Stud_name', 'Stud_marks'],\n",
       "  'dtypes': ['Number', 'String', 'String']},\n",
       " 'servers': {'Server0': ['sh1', 'sh2', 'sh3'],\n",
       "  'Server1': ['sh1', 'sh2', 'sh3'],\n",
       "  'Server2': ['sh1', 'sh2', 'sh3'],\n",
       "  'Server3': ['sh1', 'sh2', 'sh3'],\n",
       "  'Server4': ['sh1', 'sh2', 'sh3'],\n",
       "  'Server5': ['sh1', 'sh2', 'sh3'],\n",
       "  'Server6': ['sh1', 'sh2', 'sh3']},\n",
       " 'shards': [{'Primary_server': 'Server0',\n",
       "   'Shard_id': 'sh1',\n",
       "   'Shard_size': 4096,\n",
       "   'Stud_id_low': 0},\n",
       "  {'Primary_server': 'Server0',\n",
       "   'Shard_id': 'sh2',\n",
       "   'Shard_size': 4096,\n",
       "   'Stud_id_low': 4096},\n",
       "  {'Primary_server': 'Server0',\n",
       "   'Shard_id': 'sh3',\n",
       "   'Shard_size': 4096,\n",
       "   'Stud_id_low': 8192}]}"
      ]
     },
     "execution_count": 16,
     "metadata": {},
     "output_type": "execute_result"
    }
   ],
   "source": [
    "# Check Status\n",
    "\n",
    "r = requests.get(f\"{localhost}:5000/status\")\n",
    "r.json()"
   ]
  },
  {
   "cell_type": "code",
   "execution_count": 17,
   "metadata": {},
   "outputs": [
    {
     "name": "stderr",
     "output_type": "stream",
     "text": [
      "100%|██████████| 1000/1000 [00:01<00:00, 841.66it/s]\n",
      "100%|██████████| 1000/1000 [00:00<00:00, 487823.21it/s]\n"
     ]
    },
    {
     "data": {
      "text/plain": [
       "'1000 write requests with batches of 10 took 1.19 seconds.'"
      ]
     },
     "execution_count": 17,
     "metadata": {},
     "output_type": "execute_result"
    }
   ],
   "source": [
    "writeN()"
   ]
  },
  {
   "cell_type": "code",
   "execution_count": 18,
   "metadata": {},
   "outputs": [
    {
     "name": "stderr",
     "output_type": "stream",
     "text": [
      "100%|██████████| 1000/1000 [00:01<00:00, 931.83it/s]\n",
      "100%|██████████| 1000/1000 [00:00<00:00, 134553.57it/s]\n"
     ]
    },
    {
     "data": {
      "text/plain": [
       "'1000 read requests with batches of 10 took 1.08 seconds.'"
      ]
     },
     "execution_count": 18,
     "metadata": {},
     "output_type": "execute_result"
    }
   ],
   "source": [
    "readN()"
   ]
  },
  {
   "cell_type": "markdown",
   "metadata": {},
   "source": [
    "# A-3\n",
    "\n",
    "Increase the number of Servers (to 10) by adding new servers and increase the number of shards (shard to 6, shard\n",
    "replicas to 8). Define the (init endpoint) configurations according to your choice. Report the write speed up for 10000\n",
    "writes and read speed up for 10000 reads"
   ]
  },
  {
   "cell_type": "code",
   "execution_count": 19,
   "metadata": {},
   "outputs": [
    {
     "name": "stdout",
     "output_type": "stream",
     "text": [
      "{\"Added Servers\":[\"Server_1\",\"Server_2\",\"Server_3\",\"Server_4\",\"Server_5\",\"Server_6\",\"Server_7\",\"Server_8\",\"Server_9\",\"Server_10\"],\"message\":\"Configured Database\",\"status\":\"success\"}\n",
      "\n"
     ]
    }
   ],
   "source": [
    "# Initialise\n",
    "\n",
    "init = {\n",
    "    \"N\":10,\n",
    "    \"schema\":{\"columns\":[\"Stud_id\",\"Stud_name\",\"Stud_marks\"],\"dtypes\":[\"Number\",\"String\",\"String\"]},\n",
    "    \"shards\":[{\"Stud_id_low\":0, \"Shard_id\": \"sh1\", \"Shard_size\":4096},\n",
    "            {\"Stud_id_low\":4096, \"Shard_id\": \"sh2\", \"Shard_size\":4096},\n",
    "            {\"Stud_id_low\":8192, \"Shard_id\": \"sh3\", \"Shard_size\":4096},\n",
    "            {\"Stud_id_low\":12288, \"Shard_id\": \"sh4\", \"Shard_size\":4096},\n",
    "            {\"Stud_id_low\":16384, \"Shard_id\": \"sh5\", \"Shard_size\":4096},\n",
    "            {\"Stud_id_low\":20480, \"Shard_id\": \"sh6\", \"Shard_size\":4096}],\n",
    "    \"servers\":{\n",
    "            \"Server0\":[\"sh1\", \"sh2\", \"sh3\", \"sh4\", \"sh6\"],\n",
    "            \"Server1\":[\"sh1\", \"sh2\", \"sh3\", \"sh4\", \"sh6\"],\n",
    "            \"Server2\":[\"sh1\", \"sh2\", \"sh3\", \"sh5\", \"sh6\"],\n",
    "            \"Server3\":[\"sh1\", \"sh2\", \"sh3\", \"sh5\", \"sh6\"],\n",
    "            \"Server4\":[\"sh1\", \"sh2\", \"sh4\", \"sh5\", \"sh6\"],\n",
    "            \"Server5\":[\"sh1\", \"sh2\", \"sh4\", \"sh5\", \"sh6\"],\n",
    "            \"Server6\":[\"sh1\", \"sh3\", \"sh4\", \"sh5\", \"sh6\"],\n",
    "            \"Server7\":[\"sh1\", \"sh3\", \"sh4\", \"sh5\", \"sh6\"],\n",
    "            \"Server8\":[\"sh2\", \"sh3\", \"sh4\", \"sh5\"],\n",
    "            \"Server9\":[\"sh2\", \"sh3\", \"sh4\", \"sh5\"]\n",
    "            }\n",
    "}\n",
    "\n",
    "r = requests.post(\"http://localhost:5000/init\", json=init)\n",
    "\n",
    "print(r.text)"
   ]
  },
  {
   "cell_type": "code",
   "execution_count": 20,
   "metadata": {},
   "outputs": [
    {
     "data": {
      "text/plain": [
       "{'N': 10,\n",
       " 'schema': {'columns': ['Stud_id', 'Stud_name', 'Stud_marks'],\n",
       "  'dtypes': ['Number', 'String', 'String']},\n",
       " 'servers': {'Server0': ['sh1', 'sh2', 'sh3', 'sh4', 'sh6'],\n",
       "  'Server1': ['sh1', 'sh2', 'sh3', 'sh4', 'sh6'],\n",
       "  'Server2': ['sh1', 'sh2', 'sh3', 'sh5', 'sh6'],\n",
       "  'Server3': ['sh1', 'sh2', 'sh3', 'sh5', 'sh6'],\n",
       "  'Server4': ['sh1', 'sh2', 'sh4', 'sh5', 'sh6'],\n",
       "  'Server5': ['sh1', 'sh2', 'sh4', 'sh5', 'sh6'],\n",
       "  'Server6': ['sh1', 'sh3', 'sh4', 'sh5', 'sh6'],\n",
       "  'Server7': ['sh1', 'sh3', 'sh4', 'sh5', 'sh6'],\n",
       "  'Server8': ['sh2', 'sh3', 'sh4', 'sh5'],\n",
       "  'Server9': ['sh2', 'sh3', 'sh4', 'sh5']},\n",
       " 'shards': [{'Primary_server': 'Server0',\n",
       "   'Shard_id': 'sh1',\n",
       "   'Shard_size': 4096,\n",
       "   'Stud_id_low': 0},\n",
       "  {'Primary_server': 'Server0',\n",
       "   'Shard_id': 'sh2',\n",
       "   'Shard_size': 4096,\n",
       "   'Stud_id_low': 4096},\n",
       "  {'Primary_server': 'Server0',\n",
       "   'Shard_id': 'sh3',\n",
       "   'Shard_size': 4096,\n",
       "   'Stud_id_low': 8192},\n",
       "  {'Primary_server': 'Server0',\n",
       "   'Shard_id': 'sh4',\n",
       "   'Shard_size': 4096,\n",
       "   'Stud_id_low': 12288},\n",
       "  {'Primary_server': 'Server2',\n",
       "   'Shard_id': 'sh5',\n",
       "   'Shard_size': 4096,\n",
       "   'Stud_id_low': 16384},\n",
       "  {'Primary_server': 'Server0',\n",
       "   'Shard_id': 'sh6',\n",
       "   'Shard_size': 4096,\n",
       "   'Stud_id_low': 20480}]}"
      ]
     },
     "execution_count": 20,
     "metadata": {},
     "output_type": "execute_result"
    }
   ],
   "source": [
    "# Check Status\n",
    "\n",
    "r = requests.get(f\"{localhost}:5000/status\")\n",
    "r.json()"
   ]
  },
  {
   "cell_type": "code",
   "execution_count": 21,
   "metadata": {},
   "outputs": [
    {
     "name": "stderr",
     "output_type": "stream",
     "text": [
      "100%|██████████| 1000/1000 [00:01<00:00, 858.53it/s]\n",
      "100%|██████████| 1000/1000 [00:00<00:00, 512000.00it/s]\n"
     ]
    },
    {
     "data": {
      "text/plain": [
       "'1000 write requests with batches of 10 took 1.17 seconds.'"
      ]
     },
     "execution_count": 21,
     "metadata": {},
     "output_type": "execute_result"
    }
   ],
   "source": [
    "writeN()"
   ]
  },
  {
   "cell_type": "code",
   "execution_count": 22,
   "metadata": {},
   "outputs": [
    {
     "name": "stderr",
     "output_type": "stream",
     "text": [
      "100%|██████████| 1000/1000 [00:01<00:00, 847.47it/s]\n",
      "100%|██████████| 1000/1000 [00:00<00:00, 348798.67it/s]\n"
     ]
    },
    {
     "data": {
      "text/plain": [
       "'1000 read requests with batches of 10 took 1.20 seconds.'"
      ]
     },
     "execution_count": 22,
     "metadata": {},
     "output_type": "execute_result"
    }
   ],
   "source": [
    "readN()"
   ]
  },
  {
   "cell_type": "markdown",
   "metadata": {},
   "source": [
    "# A-4 \n",
    "\n",
    "Finally, check all the endpoints and ensure their correctness. Manually drop a server container and show that the load\n",
    "balancer spawns a new container and copies the shard entries from other replicas."
   ]
  },
  {
   "cell_type": "code",
   "execution_count": null,
   "metadata": {},
   "outputs": [],
   "source": []
  },
  {
   "cell_type": "code",
   "execution_count": null,
   "metadata": {},
   "outputs": [],
   "source": []
  },
  {
   "cell_type": "code",
   "execution_count": null,
   "metadata": {},
   "outputs": [],
   "source": []
  },
  {
   "cell_type": "code",
   "execution_count": null,
   "metadata": {},
   "outputs": [],
   "source": []
  }
 ],
 "metadata": {
  "kernelspec": {
   "display_name": "Python 3",
   "language": "python",
   "name": "python3"
  },
  "language_info": {
   "codemirror_mode": {
    "name": "ipython",
    "version": 3
   },
   "file_extension": ".py",
   "mimetype": "text/x-python",
   "name": "python",
   "nbconvert_exporter": "python",
   "pygments_lexer": "ipython3",
   "version": "3.8.12"
  }
 },
 "nbformat": 4,
 "nbformat_minor": 2
}
