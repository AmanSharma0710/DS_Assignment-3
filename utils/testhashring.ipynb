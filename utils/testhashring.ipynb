{
 "cells": [
  {
   "cell_type": "code",
   "execution_count": 1,
   "metadata": {},
   "outputs": [],
   "source": [
    "from hashring import HashRing\n",
    "import random"
   ]
  },
  {
   "cell_type": "code",
   "execution_count": 4,
   "metadata": {},
   "outputs": [
    {
     "name": "stdout",
     "output_type": "stream",
     "text": [
      "{'node0': 3951, 'node1': 3581, 'node2': 2468}\n"
     ]
    }
   ],
   "source": [
    "# add 15 nodes to the ring\n",
    "num_servers = 3\n",
    "hashring = HashRing(hashtype = \"md5\")\n",
    "for i in range(num_servers):\n",
    "    hashring.add_server(\"node%d\" % i)\n",
    "\n",
    "request_count = {}\n",
    "for i in range(10000):\n",
    "    request_id = random.randint(0, 999999)\n",
    "    server = hashring.get_server(request_id)\n",
    "    if server not in request_count:\n",
    "        request_count[server] = 1\n",
    "    else:\n",
    "        request_count[server] += 1\n",
    "\n",
    "print(request_count)"
   ]
  },
  {
   "cell_type": "code",
   "execution_count": 7,
   "metadata": {},
   "outputs": [
    {
     "data": {
      "image/png": "[encoded data removed]",
      "text/plain": [
       "<Figure size 432x288 with 1 Axes>"
      ]
     },
     "metadata": {
      "needs_background": "light"
     },
     "output_type": "display_data"
    }
   ],
   "source": [
    "# plot the distribution of requests\n",
    "import matplotlib.pyplot as plt\n",
    "plt.bar(range(len(request_count)), request_count.values(), align='center')\n",
    "plt.xticks(range(len(request_count)), request_count.keys())\n",
    "plt.show()"
   ]
  },
  {
   "cell_type": "code",
   "execution_count": 11,
   "metadata": {},
   "outputs": [
    {
     "name": "stdout",
     "output_type": "stream",
     "text": [
      "hash_type: default, num_servers: 2, uniformity_score: 0.913504\n",
      "hash_type: default, num_servers: 3, uniformity_score: 0.723677\n",
      "hash_type: default, num_servers: 4, uniformity_score: 0.660919\n",
      "hash_type: default, num_servers: 5, uniformity_score: 0.602142\n",
      "hash_type: default, num_servers: 6, uniformity_score: 0.539209\n",
      "hash_type: md5, num_servers: 2, uniformity_score: 0.501049\n",
      "hash_type: md5, num_servers: 3, uniformity_score: 0.342936\n",
      "hash_type: md5, num_servers: 4, uniformity_score: 0.288157\n",
      "hash_type: md5, num_servers: 5, uniformity_score: 0.231091\n",
      "hash_type: md5, num_servers: 6, uniformity_score: 0.185991\n",
      "hash_type: sha256, num_servers: 2, uniformity_score: 0.510834\n",
      "hash_type: sha256, num_servers: 3, uniformity_score: 0.389611\n",
      "hash_type: sha256, num_servers: 4, uniformity_score: 0.297813\n",
      "hash_type: sha256, num_servers: 5, uniformity_score: 0.220163\n",
      "hash_type: sha256, num_servers: 6, uniformity_score: 0.192774\n",
      "hash_type: custom, num_servers: 2, uniformity_score: 0.502535\n",
      "hash_type: custom, num_servers: 3, uniformity_score: 0.354314\n",
      "hash_type: custom, num_servers: 4, uniformity_score: 0.292100\n",
      "hash_type: custom, num_servers: 5, uniformity_score: 0.229190\n",
      "hash_type: custom, num_servers: 6, uniformity_score: 0.188225\n"
     ]
    }
   ],
   "source": [
    "for hash_type in [\"default\", \"md5\", \"sha256\", \"custom\"]:\n",
    "    for num_servers in range(2, 7):\n",
    "        hashring = HashRing(hashtype = hash_type)\n",
    "        for i in range(num_servers):\n",
    "            hashring.add_server(\"node%d\" % i)\n",
    "\n",
    "        request_count = {}\n",
    "        for i in range(10000):\n",
    "            request_id = random.randint(100000, 999999)\n",
    "            server = hashring.get_server(request_id)\n",
    "            if server not in request_count:\n",
    "                request_count[server] = 1\n",
    "            else:\n",
    "                request_count[server] += 1\n",
    "\n",
    "        # uniformity score\n",
    "        uniformity_score = 0\n",
    "        \n",
    "        for server in request_count:\n",
    "            uniformity_score += (request_count[server]/10000) ** 2\n",
    "        \n",
    "        print(\"hash_type: %s, num_servers: %d, uniformity_score: %f\" % (hash_type, num_servers, uniformity_score))\n",
    "\n",
    "        # plt.bar(range(num_servers), request_count)\n",
    "        # plt.show()\n",
    "\n",
    "    # print(request_count)"
   ]
  },
  {
   "cell_type": "code",
   "execution_count": null,
   "metadata": {},
   "outputs": [],
   "source": []
  },
  {
   "cell_type": "code",
   "execution_count": null,
   "metadata": {},
   "outputs": [],
   "source": []
  }
 ],
 "metadata": {
  "kernelspec": {
   "display_name": "Python 3",
   "language": "python",
   "name": "python3"
  },
  "language_info": {
   "codemirror_mode": {
    "name": "ipython",
    "version": 3
   },
   "file_extension": ".py",
   "mimetype": "text/x-python",
   "name": "python",
   "nbconvert_exporter": "python",
   "pygments_lexer": "ipython3",
   "version": "3.9.7"
  }
 },
 "nbformat": 4,
 "nbformat_minor": 2
}
